{
  "nbformat": 4,
  "nbformat_minor": 0,
  "metadata": {
    "colab": {
      "provenance": [],
      "mount_file_id": "1EhPWcSmQmdwv5d_bsL_JDJLrhmWAKVqN",
      "authorship_tag": "ABX9TyMODOgh2E1UN2SrwmcvNphK",
      "include_colab_link": true
    },
    "kernelspec": {
      "name": "python3",
      "display_name": "Python 3"
    },
    "language_info": {
      "name": "python"
    }
  },
  "cells": [
    {
      "cell_type": "markdown",
      "metadata": {
        "id": "view-in-github",
        "colab_type": "text"
      },
      "source": [
        "<a href=\"https://colab.research.google.com/github/LukasRodriguess/itbi_recife/blob/main/ITBI_Recife_2015_2023.ipynb\" target=\"_parent\"><img src=\"https://colab.research.google.com/assets/colab-badge.svg\" alt=\"Open In Colab\"/></a>"
      ]
    },
    {
      "cell_type": "markdown",
      "source": [
        "<h1> Análise dos dados ITBI Recife do período 2015 a 2023</h1>\n",
        "\n",
        "> Algumas observações para o próximo update:\n",
        "1. Melhorar a integração com o Gemini deixando mais preciso\n",
        "2. Passar os dados do excel para o DB\n",
        "3. Aprender a acessar as outras páginas do arquivo ITBI_Recife.xlsx\n",
        "\n",
        "\n",
        "\n"
      ],
      "metadata": {
        "id": "dPFLDoI__R-W"
      }
    },
    {
      "cell_type": "markdown",
      "source": [
        "# Codigo Base\n",
        "Rode primeiro essas codigos para utilizar melhor todo o resto"
      ],
      "metadata": {
        "id": "xhyJ6h8jaSUl"
      }
    },
    {
      "cell_type": "code",
      "execution_count": 19,
      "metadata": {
        "id": "tYeCs7xt_F35"
      },
      "outputs": [],
      "source": [
        "!pip install -q -U google-generativeai #instalando o Gimini Ia do Google (-q = quiet / -U = Update)\n",
        "\n",
        "#Importando bibliotecas que vamos utilizar ↓\n",
        "import pandas as pd\n",
        "import numpy as np\n",
        "import sqlite3 as sqlite_db\n",
        "import google.generativeai as genai\n",
        "\n",
        "#habilitando a secret Key do google ↓\n",
        "from google.colab import userdata\n",
        "apiKey = userdata.get('APIKEY')\n",
        "#path_itbi_recife = userdata.get('path_itbi_recife')\n",
        "genai.configure(api_key=apiKey)\n",
        "\n",
        "#removendo filtros da IA ↓\n",
        "safety_settings = {\n",
        "    \"HARASSMENT\": \"BLOCK_NONE\",\n",
        "    \"HATE\": \"BLOCK_NONE\",\n",
        "    \"SEXUAL\": \"BLOCK_NONE\",\n",
        "    \"DANGEROUS\": \"BLOCK_NONE\",\n",
        "}\n",
        "#definir modelo utilizado da IA e aplicando configurações de filtro↓\n",
        "model = genai.GenerativeModel(model_name=\"gemini-1.5-pro-latest\",\n",
        "                              safety_settings = safety_settings )\n",
        "\n",
        "''' Codigo para listar os modelos do gemini disponiveis  ↓\n",
        "\n",
        "for m in genai.list_models():\n",
        "  if 'generateContent' in m.supported_generation_methods:\n",
        "    print(m.name)\n",
        "------------------------------------------------------------------\n",
        "for m in genai.list_models():\n",
        "  if 'embedContent' in m.supported_generation_methods:\n",
        "    print(m.name)\n",
        "\n",
        "    generate_content()\n",
        "'''\n",
        "\n",
        "#iniciando o chat_bot Auxiliar e habilitando historico para aperfeiçar o chat ↓\n",
        "chat_bot = model.start_chat(history=[])"
      ]
    },
    {
      "cell_type": "markdown",
      "source": [
        "# Consulta Gemini - Chat Bot"
      ],
      "metadata": {
        "id": "zUzsslWEbKQf"
      }
    },
    {
      "cell_type": "code",
      "source": [
        "#codigo de pesquisa do chat_bot ↓\n",
        "prompt = input(\"Esperando prompt: \")\n",
        "\n",
        "while prompt != \"fim\":\n",
        "  response = chat_bot.send_message(prompt)\n",
        "  print(\"Resposta: \", response.text, \"\\n\")\n",
        "  prompt = input(\"Esperando prompt: \")"
      ],
      "metadata": {
        "id": "K_3uOFLZEPIo"
      },
      "execution_count": null,
      "outputs": []
    },
    {
      "cell_type": "code",
      "source": [
        "#resposta = model.generate_content(f'qantas colunas tem no arquivo {df}?')\n",
        "#print(resposta.text)"
      ],
      "metadata": {
        "id": "BKbtJ1-PKuM6"
      },
      "execution_count": null,
      "outputs": []
    },
    {
      "cell_type": "code",
      "source": [
        "#Chat_bot\n",
        "consulta = chat_bot.send_message(\"qual foi a ultima pergunta que lhe fiz?\")\n",
        "print(consulta.text)"
      ],
      "metadata": {
        "id": "0Vp3lNulkEjL"
      },
      "execution_count": null,
      "outputs": []
    },
    {
      "cell_type": "markdown",
      "source": [
        "# Manipulando os dados"
      ],
      "metadata": {
        "id": "72TubgX6beCD"
      }
    },
    {
      "cell_type": "code",
      "source": [
        "#lendo o arquivo excel com o pandas ↓\n",
        "df = pd.read_excel('/content/ITBI_Recife.xlsx')"
      ],
      "metadata": {
        "id": "VGPp8Wn_MPS2"
      },
      "execution_count": 7,
      "outputs": []
    },
    {
      "cell_type": "markdown",
      "source": [
        "# Codigos do Bando de dados"
      ],
      "metadata": {
        "id": "cQefI1PhZLTp"
      }
    },
    {
      "cell_type": "markdown",
      "source": [
        "#####Criando banco e CURSOR ↓"
      ],
      "metadata": {
        "id": "JJJOIoFuZv7x"
      }
    },
    {
      "cell_type": "markdown",
      "source": [
        "```\n",
        "db_connection = sqlite_db.connect(\"itbi_recife.db\")\n",
        "cursor = db_connection.cursor()\n",
        "```\n",
        "\n",
        "\n",
        "\n",
        "\n",
        "\n"
      ],
      "metadata": {
        "id": "1teafC27SZxB"
      }
    },
    {
      "cell_type": "markdown",
      "source": [
        "#####Criando Tabela ↓"
      ],
      "metadata": {
        "id": "xKXdcHTdZrwW"
      }
    },
    {
      "cell_type": "markdown",
      "source": [
        "```\n",
        "cursor.execute('''\n",
        "CREATE TABLE IF NOT EXISTS imovel (\n",
        "    id INTEGER PRIMARY KEY AUTOINCREMENT,\n",
        "    logradouro TEXT,\n",
        "    numero INTEGER,\n",
        "    complemento TEXT,\n",
        "    bairro TEXT,\n",
        "    cidade TEXT,\n",
        "    uf TEXT,\n",
        "    ano_construcao INTEGER,\n",
        "    area_terreno REAL,\n",
        "    area_construida REAL,\n",
        "    fracao_ideal REAL,\n",
        "    padrao_acabamento TEXT,\n",
        "    tipo_construcao TEXT,\n",
        "    tipo_ocupa TEXT,\n",
        "    valor_avaliacao REAL,\n",
        "    data_transacao TEXT,\n",
        "    estado_conservacao TEXT,\n",
        "    tipo_imovel TEXT,\n",
        "    sfh REAL,\n",
        "    ano INTEGER\n",
        ");\n",
        "''')\n",
        "```\n",
        "\n"
      ],
      "metadata": {
        "id": "wi6AkjKUZkbN"
      }
    }
  ]
}